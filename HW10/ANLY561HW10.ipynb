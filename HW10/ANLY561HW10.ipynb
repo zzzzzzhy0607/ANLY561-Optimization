{
 "cells": [
  {
   "cell_type": "markdown",
   "metadata": {},
   "source": [
    "# ANLY561 Homework10\n",
    "# Hongyang Zheng\n",
    "\n",
    "<br>\n",
    "## Question1"
   ]
  },
  {
   "cell_type": "code",
   "execution_count": 59,
   "metadata": {},
   "outputs": [],
   "source": [
    "import numpy as np\n",
    "import numpy.random as rd\n",
    "import matplotlib.pyplot as plt\n",
    "\n",
    "# generate data points\n",
    "def random_circle(N):\n",
    "    x = np.reshape(rd.randn(N*2), (N, 2))\n",
    "    for i in range(N):\n",
    "        x[i,:] = x[i,:]/np.sqrt(np.sum(x[i,:]**2))\n",
    "    return x\n",
    "\n",
    "def random_radius(N, R=1):\n",
    "    r = rd.rand(N)\n",
    "    return R*np.sqrt(r) \n",
    "    \n",
    "def random_disc(N, mu=[0,0], R=1):\n",
    "    x = random_circle(N)\n",
    "    r = random_radius(N, R=R)\n",
    "    for i in range(N):\n",
    "        x[i, :] = r[i] * x[i, :] + mu\n",
    "    return x\n",
    "\n",
    "N = 10\n",
    "X1 = random_disc(N, mu=[-2, -2])\n",
    "X2 = random_disc(N, mu=[2, 2])\n",
    "X = np.concatenate((X1,X2),axis=0)\n",
    "\n",
    "Y = [-1,-1,-1,-1,-1,-1,-1,-1,-1,-1,1,1,1,1,1,1,1,1,1,1]\n",
    "Y = np.array(Y)"
   ]
  },
  {
   "cell_type": "markdown",
   "metadata": {},
   "source": [
    "###### a)"
   ]
  },
  {
   "cell_type": "code",
   "execution_count": 60,
   "metadata": {},
   "outputs": [
    {
     "name": "stdout",
     "output_type": "stream",
     "text": [
      "The initial interior point is:\n",
      "[-20, 20, 10, 33.14362784148963]\n"
     ]
    }
   ],
   "source": [
    "# initial points\n",
    "v0 = np.array([-20,20])\n",
    "b0 = 10\n",
    "\n",
    "# when i = 0,1,...9 h=np.sum(v0*X[i])-b0+1\n",
    "# when i = 10,11,...19 h=1+b0-np.sum(v0*X[i])\n",
    "h = []\n",
    "for i in range(20): \n",
    "    if i<=9:\n",
    "        h.append(np.sum(v0*X[i])-b0+1)\n",
    "    else:\n",
    "        h.append(1+b0-np.sum(v0*X[i]))\n",
    "\n",
    "# find the maximum value of h \n",
    "h_max=max(h)\n",
    "z0=h_max+1\n",
    "\n",
    "print('The initial interior point is:')\n",
    "print([v0[0],v0[1],b0,z0])"
   ]
  },
  {
   "cell_type": "code",
   "execution_count": 61,
   "metadata": {},
   "outputs": [],
   "source": [
    "# sum(log(-h_i))\n",
    "def log(X,LL):\n",
    "        h1=0\n",
    "        v1=LL[0]\n",
    "        v2=LL[1]\n",
    "        b=LL[2]\n",
    "        z=LL[3]\n",
    "        v=np.array([v1,v2])\n",
    "        for i in range(20):\n",
    "            if i<=9:\n",
    "                h1=h1+(np.log(-np.sum(v*X[i])+b+z-1))\n",
    "            else:\n",
    "                h1=h1+(np.log(np.sum(v*X[i])-b+z-1))\n",
    "                \n",
    "        return h1\n",
    "\n",
    "# sum(dlog(-h_i))\n",
    "def dlog(X,LL):\n",
    "        v1=LL[0]\n",
    "        v2=LL[1]\n",
    "        b=LL[2]\n",
    "        z=LL[3]\n",
    "        v=np.array([v1,v2])\n",
    "        G1=0\n",
    "        G2=0\n",
    "        Gb=0\n",
    "        Gz=0\n",
    "        for i in range(20):\n",
    "            if i<=9:\n",
    "                G1=G1+(-X[i][0]/(-np.sum(v*X[i])+b+z-1))\n",
    "                G2=G2+(-X[i][1]/(-np.sum(v*X[i])+b+z-1))\n",
    "                Gb=Gb+(1/(-np.sum(v*X[i])+b+z-1))\n",
    "                Gz=Gz+(1/(-np.sum(v*X[i])+b+z-1))\n",
    "            else:\n",
    "                G1=G1+(X[i][0]/(np.sum(v*X[i])-b+z-1))\n",
    "                G2=G2+(X[i][1]/(np.sum(v*X[i])-b+z-1))\n",
    "                Gb=Gb+(-1/(np.sum(v*X[i])-b+z-1))\n",
    "                Gz=Gz+(1/(np.sum(v*X[i])-b+z-1))\n",
    "                \n",
    "        return np.array([G1,G2,Gb,Gz])\n",
    "\n",
    "# sum(d2log(-h_i))\n",
    "def d2log(X,LL):\n",
    "        v1=LL[0]\n",
    "        v2=LL[1]\n",
    "        b=LL[2]\n",
    "        z=LL[3]\n",
    "        v=np.array([v1,v2])\n",
    "        \n",
    "        G11=0\n",
    "        G12=0\n",
    "        G1b=0\n",
    "        G1z=0\n",
    "        \n",
    "        G21=0\n",
    "        G22=0\n",
    "        G2b=0\n",
    "        G2z=0\n",
    "        \n",
    "        Gb1=0\n",
    "        Gb2=0\n",
    "        Gbb=0\n",
    "        Gbz=0\n",
    "        \n",
    "        Gz1=0\n",
    "        Gz2=0\n",
    "        Gzb=0\n",
    "        Gzz=0\n",
    "        \n",
    "        for i in range(20):\n",
    "            if i<=9:\n",
    "                    G11=G11+(-(X[i][0])**2/(-np.sum(v*X[i])+b+z-1)**2)\n",
    "                    G12=G12+((-X[i][0]*X[i][1])/(-np.sum(v*X[i])+b+z-1)**2)\n",
    "                    G1b=G1b+(X[i][0]/(-np.sum(v*X[i])+b+z-1)**2)\n",
    "                    G1z=G1z+(X[i][0]/(-np.sum(v*X[i])+b+z-1)**2)\n",
    "\n",
    "                    G21=G21+(-X[i][1]*X[i][0]/(-np.sum(v*X[i])+b+z-1)**2)\n",
    "                    G22=G22+(-(X[i][1]**2)/(-np.sum(v*X[i])+b+z-1)**2)\n",
    "                    G2b=G2b+(X[i][1]/(-np.sum(v*X[i])+b+z-1)**2)\n",
    "                    G2z=G2z+(X[i][1]/(-np.sum(v*X[i])+b+z-1)**2)\n",
    "\n",
    "                    Gb1=Gb1+(X[i][0]/(-np.sum(v*X[i])+b+z-1)**2)\n",
    "                    Gb2=Gb2+(X[i][1]/(-np.sum(v*X[i])+b+z-1)**2)\n",
    "                    Gbb=Gbb+(-1/(-np.sum(v*X[i])+b+z-1)**2)\n",
    "                    Gbz=Gbz+(-1/(-np.sum(v*X[i])+b+z-1)**2)\n",
    "\n",
    "                    Gz1=Gz1+(X[i][0]/(-np.sum(v*X[i])+b+z-1)**2)\n",
    "                    Gz2=Gz2+(X[i][1]/(-np.sum(v*X[i])+b+z-1)**2)\n",
    "                    Gzb=Gzb+(-1/(-np.sum(v*X[i])+b+z-1)**2)\n",
    "                    Gzz=Gzz+(-1/(-np.sum(v*X[i])+b+z-1)**2)\n",
    "            else:\n",
    "                    G11=G11+(-(X[i][0])**2/(-np.sum(v*X[i])+b+z-1)**2)\n",
    "                    G12=G12+((-X[i][0]*X[i][1])/(-np.sum(v*X[i])+b+z-1)**2)\n",
    "                    G1b=G1b+(X[i][0]/(-np.sum(v*X[i])+b+z-1)**2)\n",
    "                    G1z=G1z+(-X[i][0]/(-np.sum(v*X[i])+b+z-1)**2)\n",
    "\n",
    "                    G21=G21+(-X[i][1]*X[i][0]/(-np.sum(v*X[i])+b+z-1)**2)\n",
    "                    G22=G22+(-(X[i][1]**2)/(-np.sum(v*X[i])+b+z-1)**2)\n",
    "                    G2b=G2b+(X[i][1]/(-np.sum(v*X[i])+b+z-1)**2)\n",
    "                    G2z=G2z+(-X[i][1]/(-np.sum(v*X[i])+b+z-1)**2)\n",
    "\n",
    "                    Gb1=Gb1+(X[i][0]/(-np.sum(v*X[i])+b+z-1)**2)\n",
    "                    Gb2=Gb2+(X[i][1]/(-np.sum(v*X[i])+b+z-1)**2)\n",
    "                    Gbb=Gbb+(-1/(-np.sum(v*X[i])+b+z-1)**2)\n",
    "                    Gbz=Gbz+(1/(-np.sum(v*X[i])+b+z-1)**2)\n",
    "\n",
    "                    Gz1=Gz1+(-X[i][0]/(-np.sum(v*X[i])+b+z-1)**2)\n",
    "                    Gz2=Gz2+(-X[i][1]/(-np.sum(v*X[i])+b+z-1)**2)\n",
    "                    Gzb=Gzb+(1/(-np.sum(v*X[i])+b+z-1)**2)\n",
    "                    Gzz=Gzz+(-1/(-np.sum(v*X[i])+b+z-1)**2)\n",
    "                \n",
    "        return np.array([[G11,G12,G1b,G1z],[G21,G22,G2b,G2z],[Gb1,Gb2,Gbb,Gbz],[Gz1,Gz2,Gzb,Gzz]])"
   ]
  },
  {
   "cell_type": "code",
   "execution_count": 62,
   "metadata": {},
   "outputs": [],
   "source": [
    "# function for backtracking\n",
    "def backtracking(X, LL0, dx, f, f2, df0, alpha=0.2, beta=0.8, verbose=False):\n",
    "        \n",
    "    delta=alpha*np.sum(dx*df0)\n",
    "    t=1\n",
    "    f0= f(LL0)-f2(X,LL0)\n",
    "    LL=LL0+dx\n",
    "    fx=f(LL)-f2(X,LL)\n",
    "    #print(fx)\n",
    "    while (not np.isfinite(fx)) or f(LL)>=0:\n",
    "        #print(fx)\n",
    "        t=beta*t\n",
    "        LL=LL0+t*dx\n",
    "        fx= f(LL)-f2(X,LL)\n",
    "            \n",
    "    return LL       "
   ]
  },
  {
   "cell_type": "code",
   "execution_count": 63,
   "metadata": {},
   "outputs": [
    {
     "name": "stdout",
     "output_type": "stream",
     "text": [
      "The interior point is:\n",
      "[ 22.68356861  30.49704291   4.73014833 -70.32263346]\n"
     ]
    },
    {
     "name": "stderr",
     "output_type": "stream",
     "text": [
      "/anaconda3/lib/python3.6/site-packages/ipykernel_launcher.py:11: RuntimeWarning: invalid value encountered in log\n",
      "  # This is added back by InteractiveShellApp.init_path()\n",
      "/anaconda3/lib/python3.6/site-packages/ipykernel_launcher.py:13: RuntimeWarning: invalid value encountered in log\n",
      "  del sys.path[0]\n"
     ]
    }
   ],
   "source": [
    "# f \n",
    "f=lambda LL: LL[3]\n",
    "# df\n",
    "df=np.array([0,0,0,1])\n",
    "# d2f\n",
    "d2f=np.zeros((4,4))\n",
    "\n",
    "# initial interior point\n",
    "LL0=np.array([-20,20,10,z0])\n",
    "\n",
    "# newton's method\n",
    "d2fb = d2f - d2log(X,LL0)\n",
    "dfb = df - dlog(X,LL0)\n",
    "dx_newt = - np.linalg.solve(d2fb, dfb)\n",
    "\n",
    "LL = backtracking(X, LL0, dx_newt, f, log, dfb)\n",
    "\n",
    "p0=LL\n",
    "\n",
    "print('The interior point is:')\n",
    "print(LL)"
   ]
  },
  {
   "cell_type": "markdown",
   "metadata": {},
   "source": [
    "\n",
    "<br>\n",
    "###### b)"
   ]
  },
  {
   "cell_type": "code",
   "execution_count": 64,
   "metadata": {},
   "outputs": [],
   "source": [
    "# sum(log(-h_i))\n",
    "def log1(X,LL):\n",
    "        h1=0\n",
    "        v1=LL[0]\n",
    "        v2=LL[1]\n",
    "        b=LL[2]\n",
    "        v=np.array([v1,v2])\n",
    "        for i in range(20):\n",
    "            if i<=9:\n",
    "                h1=h1+(np.log(-np.sum(v*X[i])+b-1))\n",
    "            else:\n",
    "                h1=h1+(np.log(np.sum(v*X[i])-b-1))\n",
    "                \n",
    "        return h1\n",
    "\n",
    "# sum(dlog(-h_i))\n",
    "def dlog1(X,LL):\n",
    "        v1=LL[0]\n",
    "        v2=LL[1]\n",
    "        b=LL[2]\n",
    "        v=np.array([v1,v2])\n",
    "        G1=0\n",
    "        G2=0\n",
    "        Gb=0\n",
    "        for i in range(20):\n",
    "            if i<=9:\n",
    "                G1=G1+(-X[i][0]/(-np.sum(v*X[i])+b-1))\n",
    "                G2=G2+(-X[i][1]/(-np.sum(v*X[i])+b-1))\n",
    "                Gb=Gb+(1/(-np.sum(v*X[i])+b-1))\n",
    "            else:\n",
    "                G1=G1+(X[i][0]/(np.sum(v*X[i])-b-1))\n",
    "                G2=G2+(X[i][1]/(np.sum(v*X[i])-b-1))\n",
    "                Gb=Gb+(-1/(np.sum(v*X[i])-b-1))\n",
    "                \n",
    "        return np.array([G1,G2,Gb])\n",
    "\n",
    "# sum(d2log(-h_i))\n",
    "def d2log1(X,LL):\n",
    "        v1=LL[0]\n",
    "        v2=LL[1]\n",
    "        b=LL[2]\n",
    "        v=np.array([v1,v2])\n",
    "        \n",
    "        G11=0\n",
    "        G12=0\n",
    "        G1b=0\n",
    "        \n",
    "        G21=0\n",
    "        G22=0\n",
    "        G2b=0\n",
    "        \n",
    "        Gb1=0\n",
    "        Gb2=0\n",
    "        Gbb=0\n",
    "        \n",
    "        for i in range(20):\n",
    "            if i<=9:\n",
    "                    G11=G11+(-(X[i][0])**2/(-np.sum(v*X[i])+b-1)**2)\n",
    "                    G12=G12+((-X[i][0]*X[i][1])/(-np.sum(v*X[i])+b-1)**2)\n",
    "                    G1b=G1b+(X[i][0]/(-np.sum(v*X[i])+b-1)**2)\n",
    "\n",
    "                    G21=G21+(-X[i][1]*X[i][0]/(-np.sum(v*X[i])+b-1)**2)\n",
    "                    G22=G22+(-(X[i][1]**2)/(-np.sum(v*X[i])+b-1)**2)\n",
    "                    G2b=G2b+(X[i][1]/(-np.sum(v*X[i])+b-1)**2)\n",
    "\n",
    "                    Gb1=Gb1+(X[i][0]/(-np.sum(v*X[i])+b-1)**2)\n",
    "                    Gb2=Gb2+(X[i][1]/(-np.sum(v*X[i])+b-1)**2)\n",
    "                    Gbb=Gbb+(-1/(-np.sum(v*X[i])+b-1)**2)\n",
    "\n",
    "            else:\n",
    "                    G11=G11+(-(X[i][0])**2/(-np.sum(v*X[i])+b-1)**2)\n",
    "                    G12=G12+((-X[i][0]*X[i][1])/(-np.sum(v*X[i])+b-1)**2)\n",
    "                    G1b=G1b+(X[i][0]/(-np.sum(v*X[i])+b-1)**2)\n",
    "\n",
    "                    G21=G21+(-X[i][1]*X[i][0]/(-np.sum(v*X[i])+b-1)**2)\n",
    "                    G22=G22+(-(X[i][1]**2)/(-np.sum(v*X[i])+b-1)**2)\n",
    "                    G2b=G2b+(X[i][1]/(-np.sum(v*X[i])+b-1)**2)\n",
    "\n",
    "                    Gb1=Gb1+(X[i][0]/(-np.sum(v*X[i])+b-1)**2)\n",
    "                    Gb2=Gb2+(X[i][1]/(-np.sum(v*X[i])+b-1)**2)\n",
    "                    Gbb=Gbb+(-1/(-np.sum(v*X[i])+b-1)**2)\n",
    "\n",
    "        return np.array([[G11,G12,G1b],[G21,G22,G2b],[Gb1,Gb2,Gbb]])"
   ]
  },
  {
   "cell_type": "code",
   "execution_count": 65,
   "metadata": {},
   "outputs": [],
   "source": [
    "# function for backtracking1\n",
    "def backtracking1(X, x0, dx, f, f2, df0, alpha=0.1, beta=0.5, verbose=False):\n",
    "    \n",
    "    delta=alpha*np.sum(dx*df0)\n",
    "    t=1\n",
    "    f0= f(x0)-f2(X,x0)\n",
    "    x=x0+dx\n",
    "    fx=f(x)-f2(X,x)\n",
    "    #print(fx)\n",
    "    while (not np.isfinite(fx)) or fx>f0+delta*t:\n",
    "        #print(fx)\n",
    "        t=beta*t\n",
    "        x=x0+t*dx\n",
    "        fx= f(x)-f2(X,x)\n",
    "            \n",
    "    return x     \n",
    "\n",
    "# function for backtracking2\n",
    "def backtracking2(X, x0, dx, f, f2, df0, s, alpha=0.1, beta=0.5, verbose=False):\n",
    "    \n",
    "    delta=alpha*np.sum(dx*df0)\n",
    "    t=1\n",
    "    f0= f(x0)-f2(X,x0)/s\n",
    "    x=x0+dx\n",
    "    fx=f(x)-f2(X,x)/s\n",
    "    #print(fx)\n",
    "    while (not np.isfinite(fx)) or fx>f0+delta*t:\n",
    "        #print(fx)\n",
    "        t=beta*t\n",
    "        x=x0+t*dx\n",
    "        fx= f(x)-f2(X,x)/s\n",
    "            \n",
    "    return x       "
   ]
  },
  {
   "cell_type": "code",
   "execution_count": 66,
   "metadata": {},
   "outputs": [
    {
     "name": "stdout",
     "output_type": "stream",
     "text": [
      "[11.72872129 15.6105171   1.76788856]\n",
      "[11.72872129 15.6105171   1.76788856]\n",
      "[11.72872129 15.6105171   1.76788856]\n",
      "[5.94063733 7.87662263 1.70030715]\n",
      "[3.12051559 4.07881894 0.92634664]\n",
      "[1.59006012 2.06727851 0.90684656]\n",
      "[0.85564466 1.09019941 0.60356848]\n",
      "[0.64833224 0.82376751 0.57963559]\n",
      "[0.49640688 0.62712317 0.45477883]\n",
      "[0.43527612 0.54954921 0.37382608]\n",
      "[0.38230887 0.48208464 0.25874608]\n",
      "[0.35855074 0.45206305 0.19839044]\n",
      "[0.33638564 0.42399248 0.11788458]\n",
      "The final point is:\n",
      "[0.33638564 0.42399248 0.11788458]\n"
     ]
    },
    {
     "name": "stderr",
     "output_type": "stream",
     "text": [
      "/anaconda3/lib/python3.6/site-packages/ipykernel_launcher.py:10: RuntimeWarning: invalid value encountered in log\n",
      "  # Remove the CWD from sys.path while we load stuff.\n",
      "/anaconda3/lib/python3.6/site-packages/ipykernel_launcher.py:12: RuntimeWarning: invalid value encountered in log\n",
      "  if sys.path[0] == '':\n"
     ]
    }
   ],
   "source": [
    "# Function for log barrier method\n",
    "def log_barrier_opt(X, x0, f1, df1, d2f1, log1, dlog1, d2log1, al=0.1, be=0.5, M=10, init_iter=3, out_iter=5, in_iter=2, verbose=False):\n",
    "    \n",
    "    # Centering step\n",
    "    for i in range(init_iter):\n",
    "        d1fb0 = df1(x0) - dlog1(X,x0)\n",
    "        d2fb0 = d2f1(x0) - d2log1(X,x0)\n",
    "        dx_newt = - np.linalg.solve(d2fb0, d1fb0)\n",
    "        \n",
    "        x = backtracking1(X, x0, dx_newt, f1, log1, d1fb0)\n",
    "        print(x)\n",
    "                   \n",
    "    # Now begin the outer iterations\n",
    "    t=1\n",
    "    for i in range(out_iter):\n",
    "        t = M * t\n",
    "        if verbose:\n",
    "            pts = [x]\n",
    "        # The inner iterations\n",
    "        for j in range(in_iter):\n",
    "            d1fb0 = df1(x) - dlog1(X,x)/t\n",
    "            d2fb0 = d2f1(x) - d2log1(X,x)/t\n",
    "            dx_newt = - np.linalg.solve(d2fb0, d1fb0)\n",
    "\n",
    "            x = backtracking2(X, x, dx_newt, f1, log1, d1fb0, t)\n",
    "            print(x)\n",
    "            \n",
    "    return x\n",
    "  \n",
    "# initial interior point \n",
    "x0=np.array([LL[0],LL[1],LL[2]])\n",
    "# f(x),df(x),d2f(x)\n",
    "f1=lambda x: ((x[0]**2+x[1]**2))/2\n",
    "df1=lambda x: np.array([x[0],x[1],0])\n",
    "d2f1=lambda x: np.array([[1,0,0],[0,1,0],[0,0,0]])\n",
    "\n",
    "x = log_barrier_opt(X, x0, f1, df1, d2f1, log1, dlog1, d2log1)\n",
    "q_ast =  x\n",
    "print('The final point is:')\n",
    "print(x)"
   ]
  },
  {
   "cell_type": "markdown",
   "metadata": {},
   "source": [
    "<br>\n",
    "###### c)"
   ]
  },
  {
   "cell_type": "code",
   "execution_count": 67,
   "metadata": {},
   "outputs": [],
   "source": [
    "# df(x)+dh(x).T*mu\n",
    "# (3,1)+(20,3).T*(20,1)\n",
    "# (3,1)+(3,20)*(20,1)\n",
    "# (3,1)\n",
    "\n",
    "# f(x)=(v1**2+v2**2)/2 (1,1)\n",
    "# df(x)=[[v1],[v2],[0]] (1,3)\n",
    "# d2f(x)=([1,0,0],[0,1,0],[0,0,0]) (3,3)\n",
    "\n",
    "# h(x)=1-Y[i]*(v[0]*X[i][0]+v[1]*X[i][1]-b) (20,1)\n",
    "# dh(x)=[[-Y[i]*X[i][0]],[-Y[i]*X[i][1]], Y[i]] (20,3)\n",
    "# d2h(x)=[[0,0,0],[0,0,0],[0,0,0]] (20,20)\n",
    "\n",
    "# df\n",
    "df = lambda x: np.array([x[0],x[1],0])\n",
    "\n",
    "# dh\n",
    "def dh(X,Y,LL):\n",
    "        v1=LL[0]\n",
    "        v2=LL[1]\n",
    "        b=LL[2]\n",
    "        G=[]\n",
    "        for i in range(20):\n",
    "                G.append(np.array([-Y[i]*X[i][0], -Y[i]*X[i][1], Y[i]]))\n",
    "\n",
    "        return np.reshape(G,(20,3))\n",
    "    \n",
    "# h\n",
    "def h(X,Y,LL):\n",
    "        h1=[]\n",
    "        v1=LL[0]\n",
    "        v2=LL[1]\n",
    "        b=LL[2]\n",
    "        v=np.array([v1,v2])\n",
    "        for i in range(20):\n",
    "            h1.append(1-Y[i]*(np.sum(v*X[i])-b))\n",
    "        \n",
    "        #np.array([[h1[0]],[h1[1]],[h1[2]],[h1[3]],[h1[4]],[h1[5]],[h1[6]],[h1[7]],[h1[8]],[h1[9]],[h1[10]],[h1[11]],[h1[12]],[h1[13]],[h1[14]],[h1[15]],[h1[16]],[h1[17]],[h1[18]],[h1[19]]])\n",
    "        return np.reshape(h1,(20,1))\n",
    "    \n",
    "# mu\n",
    "mu=[]\n",
    "for i in range(20):\n",
    "    mu.append(-1/h(X,Y,x0)[i])\n",
    "u=np.reshape(mu,(20,1))\n",
    "\n",
    "def df_dht_mu(mu,X,Y,x):\n",
    "    m1=dh(X,Y,x).T@mu\n",
    "    a=np.reshape(df(x),(3,1))\n",
    "    m1=a+m1\n",
    "    \n",
    "    return m1\n",
    "\n",
    "# -mu*h-1/t\n",
    "# (20,1)\n",
    "\n",
    "# calculate -mu_i*h_i-1/t\n",
    "def mu_h_t(mu,X,Y,x,t):\n",
    "    a=[]\n",
    "    h1=h(X,Y,x)\n",
    "    for i in range(20):\n",
    "        a.append(-mu[i]*h1[i]-1/t)\n",
    "        \n",
    "    return np.reshape(a,(20,1))"
   ]
  },
  {
   "cell_type": "code",
   "execution_count": 68,
   "metadata": {},
   "outputs": [],
   "source": [
    "#(3,3) (3,20)\n",
    "#(20,3) (20,20)\n",
    "\n",
    "# (3,3)-d2f partial v1,v2,b to df(x)+dh(x).T*mu\n",
    "# (3,20)-partial mu_1,...mu_10 to df(x)+dh(x).T*mu\n",
    "# (20,3)-partial v1,v2,b to -mu_i*h_i-1/t\n",
    "# (20,20)-partial mu_1,...mu_10 to -mu_i*h_i-1/t\n",
    "\n",
    "def matrix1_1():\n",
    "    a=np.array([[1,0,0],[0,1,0],[0,0,0]])\n",
    "    return a"
   ]
  },
  {
   "cell_type": "code",
   "execution_count": 69,
   "metadata": {},
   "outputs": [],
   "source": [
    "def matrix1_2(X,Y):\n",
    "    a=[]\n",
    "    b=[]\n",
    "    c=[]\n",
    "    for i in range(20):\n",
    "        a.append(-Y[i]*X[i][0])\n",
    "    for i in range(20):\n",
    "        a.append(-Y[i]*X[i][1])\n",
    "    for i in range(20):\n",
    "        a.append(Y[i])\n",
    "        \n",
    "    return np.reshape(a,(3,20))"
   ]
  },
  {
   "cell_type": "code",
   "execution_count": 70,
   "metadata": {},
   "outputs": [],
   "source": [
    "# (20,3)-partial v1,v2,b to -mu_i*h_i-1/t\n",
    "def matrix2_1(mu,X,Y):\n",
    "    a=[]\n",
    "    for i in range(20):\n",
    "        a.append(mu[i]*Y[i]*X[i][0])\n",
    "        a.append(mu[i]*Y[i]*X[i][1])\n",
    "        a.append(-mu[i]*Y[i])\n",
    "    return np.reshape(a,(20,3))   "
   ]
  },
  {
   "cell_type": "code",
   "execution_count": 71,
   "metadata": {},
   "outputs": [],
   "source": [
    "# (20,20)-partial mu_1,...mu_10 to -mu_i*h_i-1/t\n",
    "def matrix2_2(X,Y,x):\n",
    "    a=[]\n",
    "    v=np.array([x[0],x[1]])\n",
    "    b=x[2]\n",
    "    for i in range(20):\n",
    "        a.append(-1+Y[i]*(np.sum(v*X[i])-b))\n",
    "   \n",
    "    return a\n",
    "\n",
    "phi = lambda X, Y, x, mu, t:  np.concatenate((df_dht_mu(mu,X,Y,x),mu_h_t(mu,X,Y,x,t)))\n",
    "dphi = lambda X, Y, x, mu: np.reshape(np.block([[matrix1_1(), matrix1_2(X,Y)], [matrix2_1(u,X,Y), np.diag(matrix2_2(X,Y,x))]]), (23, 23))"
   ]
  },
  {
   "cell_type": "code",
   "execution_count": 72,
   "metadata": {
    "scrolled": false
   },
   "outputs": [
    {
     "name": "stdout",
     "output_type": "stream",
     "text": [
      "101.14090682801142\n",
      "0.08420023529454437\n"
     ]
    },
    {
     "data": {
      "image/png": "[encoded data removed]",
      "text/plain": [
       "<Figure size 432x288 with 1 Axes>"
      ]
     },
     "metadata": {},
     "output_type": "display_data"
    },
    {
     "name": "stdout",
     "output_type": "stream",
     "text": [
      "47.37672917680133\n",
      "0.051789087004614695\n"
     ]
    },
    {
     "data": {
      "image/png": "[encoded data removed]",
      "text/plain": [
       "<Figure size 432x288 with 1 Axes>"
      ]
     },
     "metadata": {},
     "output_type": "display_data"
    },
    {
     "name": "stdout",
     "output_type": "stream",
     "text": [
      "32.13624420608701\n",
      "0.031366882789690874\n"
     ]
    },
    {
     "data": {
      "image/png": "[encoded data removed]",
      "text/plain": [
       "<Figure size 432x288 with 1 Axes>"
      ]
     },
     "metadata": {},
     "output_type": "display_data"
    },
    {
     "name": "stdout",
     "output_type": "stream",
     "text": [
      "26.535424746099952\n",
      "0.01781859010764021\n"
     ]
    },
    {
     "data": {
      "image/png": "[encoded data removed]",
      "text/plain": [
       "<Figure size 432x288 with 1 Axes>"
      ]
     },
     "metadata": {},
     "output_type": "display_data"
    },
    {
     "name": "stdout",
     "output_type": "stream",
     "text": [
      "24.350153120201107\n",
      "0.010729466664799975\n"
     ]
    },
    {
     "data": {
      "image/png": "[encoded data removed]",
      "text/plain": [
       "<Figure size 432x288 with 1 Axes>"
      ]
     },
     "metadata": {},
     "output_type": "display_data"
    },
    {
     "name": "stdout",
     "output_type": "stream",
     "text": [
      "23.53717748126918\n",
      "0.009192415251772872\n"
     ]
    },
    {
     "data": {
      "image/png": "[encoded data removed]",
      "text/plain": [
       "<Figure size 432x288 with 1 Axes>"
      ]
     },
     "metadata": {},
     "output_type": "display_data"
    },
    {
     "name": "stdout",
     "output_type": "stream",
     "text": [
      "23.36073977794033\n",
      "0.0023747213888940036\n"
     ]
    },
    {
     "data": {
      "image/png": "[encoded data removed]",
      "text/plain": [
       "<Figure size 432x288 with 1 Axes>"
      ]
     },
     "metadata": {},
     "output_type": "display_data"
    },
    {
     "name": "stdout",
     "output_type": "stream",
     "text": [
      "23.138228744006515\n",
      "0.0012616828748382672\n"
     ]
    },
    {
     "data": {
      "image/png": "[encoded data removed]",
      "text/plain": [
       "<Figure size 432x288 with 1 Axes>"
      ]
     },
     "metadata": {},
     "output_type": "display_data"
    },
    {
     "name": "stdout",
     "output_type": "stream",
     "text": [
      "23.09314811736972\n",
      "0.0006224548808995944\n"
     ]
    },
    {
     "data": {
      "image/png": "[encoded data removed]",
      "text/plain": [
       "<Figure size 432x288 with 1 Axes>"
      ]
     },
     "metadata": {},
     "output_type": "display_data"
    },
    {
     "name": "stdout",
     "output_type": "stream",
     "text": [
      "23.032689005591447\n",
      "0.0002592323613369211\n"
     ]
    },
    {
     "data": {
      "image/png": "[encoded data removed]",
      "text/plain": [
       "<Figure size 432x288 with 1 Axes>"
      ]
     },
     "metadata": {},
     "output_type": "display_data"
    },
    {
     "name": "stdout",
     "output_type": "stream",
     "text": [
      "Numerical solution after 10 steps:\n",
      "[0.83099981 0.77832806 0.10165259]\n",
      "[[0.02471827]\n",
      " [0.01664485]\n",
      " [0.01818009]\n",
      " [0.01412103]\n",
      " [0.01782746]\n",
      " [0.01507059]\n",
      " [0.03555566]\n",
      " [0.0209034 ]\n",
      " [0.02252024]\n",
      " [0.0282249 ]\n",
      " [0.01825319]\n",
      " [0.02365729]\n",
      " [0.01824519]\n",
      " [0.01471206]\n",
      " [0.02381466]\n",
      " [0.02128957]\n",
      " [0.01815516]\n",
      " [0.01538205]\n",
      " [0.02993414]\n",
      " [0.03032322]]\n"
     ]
    }
   ],
   "source": [
    "def l2(x):\n",
    "    return np.sqrt(np.sum(x**2))\n",
    "\n",
    "def diagnostic(X, Y, d, x, mu, t, dx_mu):\n",
    "    n = 100\n",
    "    s = np.linspace(0, 1.0, n)\n",
    "    vals = np.zeros(n)\n",
    "    for i in range(n):\n",
    "        vals[i] = l2(phi(X, Y, x + s[i]*dx_mu[:d], mu + s[i]*dx_mu[d:], t))\n",
    "        \n",
    "    plt.plot(s, vals)\n",
    "    plt.show()\n",
    "    \n",
    "num_iter = 10\n",
    "d = 3 # dimension of the program\n",
    "m = 20 # number of inequality constraints\n",
    "nu = 10 # Interior point scaling parameter\n",
    "\n",
    "# Backtracking parameters\n",
    "alpha = 0.1\n",
    "beta = 0.5\n",
    "xx = [x]\n",
    "\n",
    "eta = lambda X, Y, x, mu: np.sum(-h(X,Y,x).T*mu)# Computation of surrogate duality gap\n",
    "\n",
    "##################################\n",
    "for i in range(num_iter):\n",
    "    t = nu * m / eta(X,Y,x,u)\n",
    "    phi0 = phi(X,Y,x,mu,t)\n",
    "    norm_phi0 = l2(phi0)\n",
    "    print(t)\n",
    "    print(norm_phi0)\n",
    "    \n",
    "    # Compute the Newton search direction\n",
    " \n",
    "    dx_mu = np.linalg.solve(dphi(X,Y,x,u), -phi0)\n",
    "    \n",
    "    # Initialize backtracking\n",
    "    s = 1 # using s for backtracking parameter since t is taken\n",
    "    yx = np.reshape(x,(3,1)) + s*dx_mu[:d]\n",
    "    ymu = mu + s*dx_mu[d:]\n",
    "    hyx = h(X,Y,np.array([float(yx[0]),float(yx[1]),float(yx[2])]))\n",
    "    phiy = phi(X, Y, np.array([float(yx[0]),float(yx[1]),float(yx[2])]), ymu, t)\n",
    "    norm_phiy = l2(phiy)\n",
    "    \n",
    "    diagnostic(X, Y, d, np.reshape(x,(3,1)), u, t, dx_mu)\n",
    "    \n",
    "    while 0 < ymu[ymu<=0].size or 0 < hyx[0<=hyx].size or (1-alpha*s)*norm_phi0 < norm_phiy:\n",
    "        s = beta * s\n",
    "        yx = np.reshape(x,(3,1)) + s*dx_mu[:d]\n",
    "        ymu = mu + s*dx_mu[d:]\n",
    "        hyx = h(X,Y,np.array([float(yx[0]),float(yx[1]),float(yx[2])]))\n",
    "        phiy = phi(X, Y, np.array([float(yx[0]),float(yx[1]),float(yx[2])]), ymu, t)\n",
    "        norm_phiy = l2(phiy)\n",
    "        \n",
    "    x = np.array([float(yx[0]),float(yx[1]),float(yx[2])])\n",
    "    mu = ymu\n",
    "    xx.append(x)\n",
    "    \n",
    "    q_pd = x\n",
    "\n",
    "#print(xx)\n",
    "print('Numerical solution after %d steps:' % num_iter)\n",
    "print(x)\n",
    "print(mu)"
   ]
  },
  {
   "cell_type": "markdown",
   "metadata": {},
   "source": [
    "<br>\n",
    "###### d)"
   ]
  },
  {
   "cell_type": "code",
   "execution_count": 73,
   "metadata": {},
   "outputs": [],
   "source": [
    "def abline(slope, intercept, *fmt):\n",
    "    \n",
    "    axes = plt.gca()\n",
    "    x_vals = np.array(axes.get_xlim())\n",
    "    y_vals = intercept + slope * x_vals\n",
    "    plt.plot(x_vals, y_vals, *fmt)"
   ]
  },
  {
   "cell_type": "code",
   "execution_count": 74,
   "metadata": {
    "scrolled": true
   },
   "outputs": [
    {
     "data": {
      "image/png": "[encoded data removed]",
      "text/plain": [
       "<Figure size 432x288 with 1 Axes>"
      ]
     },
     "metadata": {},
     "output_type": "display_data"
    }
   ],
   "source": [
    "plt.scatter(X1[:,0], X1[:,1])\n",
    "plt.scatter(X2[:,0], X2[:,1])\n",
    "\n",
    "# from a) interior point\n",
    "abline(-p0[0] / p0[1], p0[2] / p0[1], 'r')\n",
    "\n",
    "# from b) log-barrier solution\n",
    "abline(-q_ast[0] / q_ast[1], q_ast[2] / q_ast[1], 'b--')\n",
    "\n",
    "# from c) primal-dual solution\n",
    "abline(-q_pd[0] / q_pd[1], q_pd[2] / q_pd[1], 'g-.')\n",
    "\n",
    "plt.xlabel('x')\n",
    "plt.ylabel('y')\n",
    "plt.axis('equal')\n",
    "plt.show()"
   ]
  }
 ],
 "metadata": {
  "kernelspec": {
   "display_name": "Python 3",
   "language": "python",
   "name": "python3"
  },
  "language_info": {
   "codemirror_mode": {
    "name": "ipython",
    "version": 3
   },
   "file_extension": ".py",
   "mimetype": "text/x-python",
   "name": "python",
   "nbconvert_exporter": "python",
   "pygments_lexer": "ipython3",
   "version": "3.6.5"
  }
 },
 "nbformat": 4,
 "nbformat_minor": 2
}
